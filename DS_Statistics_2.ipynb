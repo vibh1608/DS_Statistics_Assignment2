{
 "cells": [
  {
   "cell_type": "code",
   "execution_count": 1,
   "metadata": {},
   "outputs": [],
   "source": [
    "#imprting math package \n",
    "import math"
   ]
  },
  {
   "cell_type": "code",
   "execution_count": 11,
   "metadata": {},
   "outputs": [
    {
     "name": "stdout",
     "output_type": "stream",
     "text": [
      "probability that a person undertaking that test has answered exactly 5 questions wrong is : 3.4264958230778575e-06\n"
     ]
    }
   ],
   "source": [
    "#1\n",
    "#A test is conducted which is consisting of 20 MCQs (multiple choices questions) with\n",
    "#every MCQ having its four options out of which only one is correct. Determine the\n",
    "#probability that a person undertaking that test has answered exactly 5 questions wrong\n",
    "\n",
    "#given problem is of binomial distribution category \n",
    "#so applying formula p(x)=nCr*((p)**r)*((1-p)**(1-r)) will give us the probability\n",
    "p1 = (math.factorial(20)/(math.factorial(5)*math.factorial(15)))*((3/4)**5)*((1/4)**15)\n",
    "print(\"probability that a person undertaking that test has answered exactly 5 questions wrong is : \"+str(p1))"
   ]
  },
  {
   "cell_type": "code",
   "execution_count": 12,
   "metadata": {},
   "outputs": [
    {
     "name": "stdout",
     "output_type": "stream",
     "text": [
      "probability of getting a “D” exactly 5 times is : 0.03\n"
     ]
    }
   ],
   "source": [
    "#2\n",
    "#A die marked A to E is rolled 50 times. Find the probability of getting a “D” exactly 5 times.\n",
    "\n",
    "#this problem is also of binomial distribution category so applying same formula again\n",
    "p2 = (math.factorial(50)/(math.factorial(5)*math.factorial(45)))*((1/5)**5)*((4/5)**45)\n",
    "print(\"probability of getting a “D” exactly 5 times is : \"+str(round(p2,2)))"
   ]
  },
  {
   "cell_type": "code",
   "execution_count": 14,
   "metadata": {},
   "outputs": [
    {
     "name": "stdout",
     "output_type": "stream",
     "text": [
      "Probability of both drawn balls to be red is : 0.13\n",
      "Probability of both drawn balls to be black is : 0.33\n",
      "Probability of first drawn ball to be red and second drawn ball to be black is : 0.27\n",
      "Probability of first drawn ball to be black and second drawn ball to be red is : 0.27\n"
     ]
    }
   ],
   "source": [
    "#3\n",
    "#Two balls are drawn at random in succession without replacement from an urn\n",
    "#containing 4 red balls and 6 black balls.\n",
    "#Find the probabilities of all the possible outcomes.\n",
    "\n",
    "#total 4 outcomes are possible \n",
    "\n",
    "#i.both drawn balls are red\n",
    "x1 = (4/10)*(3/9)\n",
    "print(\"Probability of both drawn balls to be red is : \"+ str(round(x1,2)))\n",
    "\n",
    "#ii. both drawn balls are black\n",
    "x2 = (6/10)*(5/9)\n",
    "print(\"Probability of both drawn balls to be black is : \"+ str(round(x2,2)))\n",
    "\n",
    "#iii. first drawn ball is red, second drawn ball is black\n",
    "x3 = (4/10)*(6/9)\n",
    "print(\"Probability of first drawn ball to be red and second drawn ball to be black is : \"+ str(round(x3,2)))\n",
    "\n",
    "#iv. first drawn ball is black, second drawn ball is red\n",
    "x4 = (6/10)*(4/9)\n",
    "print(\"Probability of first drawn ball to be black and second drawn ball to be red is : \"+ str(round(x4,2)))"
   ]
  },
  {
   "cell_type": "code",
   "execution_count": null,
   "metadata": {},
   "outputs": [],
   "source": []
  }
 ],
 "metadata": {
  "kernelspec": {
   "display_name": "Python 3",
   "language": "python",
   "name": "python3"
  },
  "language_info": {
   "codemirror_mode": {
    "name": "ipython",
    "version": 3
   },
   "file_extension": ".py",
   "mimetype": "text/x-python",
   "name": "python",
   "nbconvert_exporter": "python",
   "pygments_lexer": "ipython3",
   "version": "3.7.0"
  }
 },
 "nbformat": 4,
 "nbformat_minor": 2
}
